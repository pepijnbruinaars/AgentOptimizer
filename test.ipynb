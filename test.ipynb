{
 "cells": [
  {
   "cell_type": "code",
   "execution_count": 1,
   "id": "3fb61b80",
   "metadata": {},
   "outputs": [],
   "source": [
    "import pandas as pd"
   ]
  },
  {
   "cell_type": "code",
   "execution_count": 6,
   "id": "443c0ff5",
   "metadata": {},
   "outputs": [
    {
     "name": "stdout",
     "output_type": "stream",
     "text": [
      "   org:resource lifecycle:transition            concept:name  \\\n",
      "0         112.0             SCHEDULE  W_Completeren aanvraag   \n",
      "1           NaN                START  W_Completeren aanvraag   \n",
      "2           NaN             SCHEDULE     W_Nabellen offertes   \n",
      "3           NaN             COMPLETE  W_Completeren aanvraag   \n",
      "4           NaN                START     W_Nabellen offertes   \n",
      "\n",
      "                     time:timestamp                     case:REG_DATE  \\\n",
      "0  2011-10-01 00:39:38.875000+00:00  2011-10-01 00:38:44.546000+00:00   \n",
      "1  2011-10-01 11:36:46.437000+00:00  2011-10-01 00:38:44.546000+00:00   \n",
      "2  2011-10-01 11:45:11.554000+00:00  2011-10-01 00:38:44.546000+00:00   \n",
      "3  2011-10-01 11:45:13.917000+00:00  2011-10-01 00:38:44.546000+00:00   \n",
      "4  2011-10-01 12:15:41.290000+00:00  2011-10-01 00:38:44.546000+00:00   \n",
      "\n",
      "   case:concept:name  case:AMOUNT_REQ  \n",
      "0             173688            20000  \n",
      "1             173688            20000  \n",
      "2             173688            20000  \n",
      "3             173688            20000  \n",
      "4             173688            20000  \n",
      "   case_id resource           activity_name                   start_timestamp  \\\n",
      "0   173688      unk  W_Completeren aanvraag  2011-10-01 11:36:46.437000+00:00   \n",
      "1   173688      unk     W_Nabellen offertes  2011-10-01 12:15:41.290000+00:00   \n",
      "2   173688  10913.0     W_Nabellen offertes  2011-10-08 16:26:57.720000+00:00   \n",
      "3   173688  11049.0     W_Nabellen offertes  2011-10-10 11:32:22.495000+00:00   \n",
      "4   173688  10629.0    W_Valideren aanvraag  2011-10-13 10:05:26.925000+00:00   \n",
      "\n",
      "                      end_timestamp  \n",
      "0  2011-10-01 11:45:13.917000+00:00  \n",
      "1  2011-10-01 12:17:08.924000+00:00  \n",
      "2  2011-10-08 16:32:00.886000+00:00  \n",
      "3  2011-10-10 11:33:05.791000+00:00  \n",
      "4  2011-10-13 10:37:37.026000+00:00  \n"
     ]
    }
   ],
   "source": [
    "df = pd.read_csv('data/input/BPI12W.csv')\n",
    "print(df.head())\n",
    "\n",
    "# I need to combine rows with the lifecycle:transition \"START\" and \"COMPLETE\" (ignoring \"SCHEDULED\") into single rows with the columns: case_id (case:concept:name), resource (org:resource), activity_name (concept:name), start_timestamp (time:timestamp from the starting event), end_timestamp (time:timestamp from the completing event)\n",
    "\n",
    "# Handle missing resource values by filling with \"unk\"\n",
    "df['org:resource'] = df['org:resource'].fillna('unk')\n",
    "\n",
    "# Filter for START and COMPLETE events\n",
    "df_filtered = df[df['lifecycle:transition'].isin(['START', 'COMPLETE'])]\n",
    "# Pivot the DataFrame to get start and end timestamps\n",
    "df_pivoted = df_filtered.pivot_table(\n",
    "    index=['case:concept:name', 'org:resource', 'concept:name'],\n",
    "    columns='lifecycle:transition',\n",
    "    values='time:timestamp',\n",
    "    aggfunc='first'\n",
    ").reset_index()\n",
    "# Rename columns for clarity\n",
    "df_pivoted.columns.name = None  # Remove the name of the columns\n",
    "df_pivoted.rename(\n",
    "    columns={\n",
    "        'START': 'start_timestamp',\n",
    "        'COMPLETE': 'end_timestamp'\n",
    "    },\n",
    "    inplace=True\n",
    ")\n",
    "# Drop rows where either start or end timestamp is missing\n",
    "df_pivoted.dropna(subset=['start_timestamp', 'end_timestamp'], inplace=True)\n",
    "\n",
    "# Sort the DataFrame by case_id and start_timestamp\n",
    "df_pivoted.sort_values(\n",
    "    by=['case:concept:name', 'start_timestamp'],\n",
    "    inplace=True\n",
    ")\n",
    "# Reset index for the final DataFrame\n",
    "df_final = df_pivoted.reset_index(drop=True)\n",
    "df_final.rename(\n",
    "    columns={\n",
    "        'case:concept:name': 'case_id',\n",
    "        'org:resource': 'resource',\n",
    "        'concept:name': 'activity_name'\n",
    "    },\n",
    "    inplace=True\n",
    ")\n",
    "\n",
    "# Re-order the columns for clarity\n",
    "df_final = df_final[['case_id', 'resource', 'activity_name', 'start_timestamp', 'end_timestamp']]\n",
    "\n",
    "# Save the final DataFrame to a CSV file\n",
    "df_final.to_csv('data/output/BPI12W_processed.csv', index=False)\n",
    "\n",
    "# Display the first few rows of the final DataFrame\n",
    "print(df_final.head())"
   ]
  },
  {
   "cell_type": "code",
   "execution_count": null,
   "id": "da4a612f",
   "metadata": {},
   "outputs": [],
   "source": []
  }
 ],
 "metadata": {
  "kernelspec": {
   "display_name": ".venv",
   "language": "python",
   "name": "python3"
  },
  "language_info": {
   "codemirror_mode": {
    "name": "ipython",
    "version": 3
   },
   "file_extension": ".py",
   "mimetype": "text/x-python",
   "name": "python",
   "nbconvert_exporter": "python",
   "pygments_lexer": "ipython3",
   "version": "3.13.3"
  }
 },
 "nbformat": 4,
 "nbformat_minor": 5
}
