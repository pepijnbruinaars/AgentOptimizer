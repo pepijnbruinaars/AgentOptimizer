{
 "cells": [
  {
   "cell_type": "code",
   "execution_count": 2,
   "metadata": {},
   "outputs": [],
   "source": [
    "import pm4py\n",
    "import pandas as pd"
   ]
  },
  {
   "cell_type": "code",
   "execution_count": 3,
   "metadata": {},
   "outputs": [
    {
     "name": "stderr",
     "output_type": "stream",
     "text": [
      "/Users/pepijnbruinaars/Documents/Master/Thesis/AgentOptimizer/.venv/lib/python3.13/site-packages/tqdm/auto.py:21: TqdmWarning: IProgress not found. Please update jupyter and ipywidgets. See https://ipywidgets.readthedocs.io/en/stable/user_install.html\n",
      "  from .autonotebook import tqdm as notebook_tqdm\n",
      "parsing log, completed traces :: 100%|██████████| 13087/13087 [00:03<00:00, 3927.94it/s]\n"
     ]
    }
   ],
   "source": [
    "log = pm4py.read_xes(\"../data/input/BPI_Challenge_2012.xes\")\n",
    "df = pm4py.convert_to_dataframe(log)\n",
    "# BPI specific filtering\n",
    "# We only want the events that have concept:name starting with a W\n",
    "df = df[df['concept:name'].str.startswith('W')]\n",
    "df.to_csv(\"../data/input/BPI12W.csv\", index=False)"
   ]
  }
 ],
 "metadata": {
  "kernelspec": {
   "display_name": ".venv",
   "language": "python",
   "name": "python3"
  },
  "language_info": {
   "codemirror_mode": {
    "name": "ipython",
    "version": 3
   },
   "file_extension": ".py",
   "mimetype": "text/x-python",
   "name": "python",
   "nbconvert_exporter": "python",
   "pygments_lexer": "ipython3",
   "version": "3.13.3"
  }
 },
 "nbformat": 4,
 "nbformat_minor": 2
}
